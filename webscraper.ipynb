{
 "cells": [
  {
   "attachments": {},
   "cell_type": "markdown",
   "metadata": {},
   "source": [
    "# Webscraper\n",
    "Using different/cleaner stats more appropriate to the task at hand \\\n",
    "Likelihood of teams winning games based on season average stats."
   ]
  },
  {
   "cell_type": "code",
   "execution_count": 1,
   "metadata": {},
   "outputs": [],
   "source": [
    "import pandas as pd"
   ]
  },
  {
   "cell_type": "code",
   "execution_count": 2,
   "metadata": {},
   "outputs": [],
   "source": [
    "years = ['2017-2018', '2018-2019', '2019-2020', '2020-2021', '2021-2022']\n",
    "dataframesCollection = {}\n",
    "for i, year in enumerate(years) :\n",
    "    yearURL = 'https://fbref.com/en/comps/9/' + year + '/' + year +'-Premier-League-Stats'\n",
    "    dataframesCollection[year] = pd.read_html(yearURL)"
   ]
  },
  {
   "cell_type": "code",
   "execution_count": 3,
   "metadata": {},
   "outputs": [
    {
     "name": "stderr",
     "output_type": "stream",
     "text": [
      "C:\\Users\\Alex\\AppData\\Local\\Temp\\ipykernel_13992\\806854516.py:14: SettingWithCopyWarning: \n",
      "A value is trying to be set on a copy of a slice from a DataFrame.\n",
      "Try using .loc[row_indexer,col_indexer] = value instead\n",
      "\n",
      "See the caveats in the documentation: https://pandas.pydata.org/pandas-docs/stable/user_guide/indexing.html#returning-a-view-versus-a-copy\n",
      "  goalkeeping[['Saves']] = goalkeeping[['Saves']].div(gamesPerSeason)\n",
      "C:\\Users\\Alex\\AppData\\Local\\Temp\\ipykernel_13992\\806854516.py:14: SettingWithCopyWarning: \n",
      "A value is trying to be set on a copy of a slice from a DataFrame.\n",
      "Try using .loc[row_indexer,col_indexer] = value instead\n",
      "\n",
      "See the caveats in the documentation: https://pandas.pydata.org/pandas-docs/stable/user_guide/indexing.html#returning-a-view-versus-a-copy\n",
      "  goalkeeping[['Saves']] = goalkeeping[['Saves']].div(gamesPerSeason)\n",
      "C:\\Users\\Alex\\AppData\\Local\\Temp\\ipykernel_13992\\806854516.py:14: SettingWithCopyWarning: \n",
      "A value is trying to be set on a copy of a slice from a DataFrame.\n",
      "Try using .loc[row_indexer,col_indexer] = value instead\n",
      "\n",
      "See the caveats in the documentation: https://pandas.pydata.org/pandas-docs/stable/user_guide/indexing.html#returning-a-view-versus-a-copy\n",
      "  goalkeeping[['Saves']] = goalkeeping[['Saves']].div(gamesPerSeason)\n",
      "C:\\Users\\Alex\\AppData\\Local\\Temp\\ipykernel_13992\\806854516.py:14: SettingWithCopyWarning: \n",
      "A value is trying to be set on a copy of a slice from a DataFrame.\n",
      "Try using .loc[row_indexer,col_indexer] = value instead\n",
      "\n",
      "See the caveats in the documentation: https://pandas.pydata.org/pandas-docs/stable/user_guide/indexing.html#returning-a-view-versus-a-copy\n",
      "  goalkeeping[['Saves']] = goalkeeping[['Saves']].div(gamesPerSeason)\n",
      "C:\\Users\\Alex\\AppData\\Local\\Temp\\ipykernel_13992\\806854516.py:14: SettingWithCopyWarning: \n",
      "A value is trying to be set on a copy of a slice from a DataFrame.\n",
      "Try using .loc[row_indexer,col_indexer] = value instead\n",
      "\n",
      "See the caveats in the documentation: https://pandas.pydata.org/pandas-docs/stable/user_guide/indexing.html#returning-a-view-versus-a-copy\n",
      "  goalkeeping[['Saves']] = goalkeeping[['Saves']].div(gamesPerSeason)\n"
     ]
    }
   ],
   "source": [
    "from functools import reduce\n",
    "\n",
    "gamesPerSeason = 38\n",
    "data = {}\n",
    "for i, year in enumerate(years) :\n",
    "    standard = dataframesCollection[year][2].drop(columns=['Unnamed: 1_level_0','Unnamed: 2_level_0','Unnamed: 3_level_0','Playing Time','Expected', 'Per 90 Minutes'], axis=1, level=0)\n",
    "    standard.columns = standard.columns.droplevel()\n",
    "    standard = standard.drop(columns=['G+A','G-PK','PK','PKatt'])\n",
    "    standard[['Gls','Ast','CrdY','CrdR','PrgC','PrgP']] = standard[['Gls','Ast','CrdY','CrdR','PrgC','PrgP']].div(gamesPerSeason)\n",
    "\n",
    "    goalkeeping = dataframesCollection[year][4]\n",
    "    goalkeeping.columns = goalkeeping.columns.droplevel()\n",
    "    goalkeeping = goalkeeping[['Squad','Saves']]\n",
    "    goalkeeping[['Saves']] = goalkeeping[['Saves']].div(gamesPerSeason)\n",
    "\n",
    "    shooting = dataframesCollection[year][8].drop(columns=['Unnamed: 1_level_0','Unnamed: 2_level_0','Expected'], axis=1, level=0)\n",
    "    shooting.columns = shooting.columns.droplevel()\n",
    "    shooting = shooting[['Squad','Sh','SoT']]\n",
    "    shooting[['Sh','SoT']] = shooting[['Sh','SoT']].div(gamesPerSeason)\n",
    "\n",
    "    passtypes = dataframesCollection[year][12].drop(columns=['Unnamed: 1_level_0','Unnamed: 2_level_0','Unnamed: 3_level_0','Corner Kicks','Outcomes'], axis=1, level=0)\n",
    "    passtypes.columns = passtypes.columns.droplevel()\n",
    "    passtypes = passtypes[['Squad','FK','TB','Sw','Crs','CK']]\n",
    "    passtypes[['FK','TB','Sw','Crs','CK']] = passtypes[['FK','TB','Sw','Crs','CK']].div(gamesPerSeason)\n",
    "\n",
    "    creativity = dataframesCollection[year][14].drop(columns=['Unnamed: 1_level_0','Unnamed: 2_level_0','SCA Types','GCA Types'], axis=1, level=0)\n",
    "    creativity.columns = creativity.columns.droplevel()\n",
    "    creativity = creativity[['Squad','SCA','GCA']]\n",
    "    creativity[['SCA','GCA']] = creativity[['SCA','GCA']].div(gamesPerSeason)\n",
    "\n",
    "    defensive = dataframesCollection[year][16].drop(columns=['Unnamed: 1_level_0','Unnamed: 2_level_0','Challenges','Unnamed: 16_level_0'],axis=1,level=0)\n",
    "    defensive.columns = defensive.columns.droplevel()\n",
    "    defensive = defensive[['Squad','TklW','Blocks','Int','Clr','Err']]\n",
    "    defensive[['TklW','Blocks','Int','Clr','Err']] = defensive[['TklW','Blocks','Int','Clr','Err']].div(gamesPerSeason)\n",
    "\n",
    "    possession = dataframesCollection[year][18].drop(\n",
    "        columns=['Unnamed: 1_level_0','Unnamed: 3_level_0','Touches','Take-Ons','Carries','Receiving'],axis=1,level=0)\n",
    "    possession.columns = possession.columns.droplevel()\n",
    "\n",
    "    misc = dataframesCollection[year][22].drop(columns=['Unnamed: 1_level_0','Unnamed: 2_level_0','Aerial Duels'],axis=1,level=0)\n",
    "    misc.columns = misc.columns.droplevel()\n",
    "    misc = misc[['Squad','Fls','Fld','Off','PKwon','PKcon','Recov']]\n",
    "    misc[['Fls','Fld','Off','PKwon','PKcon','Recov']] = misc[['Fls','Fld','Off','PKwon','PKcon','Recov']].div(gamesPerSeason)\n",
    "\n",
    "    data[year] = {'standard' : standard, 'goalkeeping' : goalkeeping, 'shooting' : shooting, 'passtypes' : passtypes,\n",
    "    'creativity' : creativity, 'defensive' : defensive, 'possession' : possession, 'misc' : misc}\n",
    "\n",
    "\n",
    "for i, year in enumerate(years) :\n",
    "    dataframes = [data[year]['standard'],data[year]['goalkeeping'],data[year]['shooting'],\n",
    "              data[year]['passtypes'],data[year]['defensive'],data[year]['possession'],data[year]['misc']]\n",
    "    df_merged = reduce(lambda  left,right: pd.merge(left,right,on=['Squad'],how='outer'), dataframes)   \n",
    "    df_merged.to_csv(\"data/\" + year + '_teamstats.csv') \n"
   ]
  },
  {
   "cell_type": "code",
   "execution_count": 5,
   "metadata": {},
   "outputs": [],
   "source": [
    "# Get match data from CSV file\n",
    "shortYears = ['2017-18', '2018-19', '2019-20', '2020-21', '2021-22']\n",
    "\n",
    "resultsMax = pd.read_csv(\"data/results.csv\", encoding=\"ANSI\")\n",
    "resultsMax = resultsMax.drop(columns=['DateTime', 'Referee'])\n",
    "results = resultsMax.drop(columns=['FTHG','FTAG','HTHG','HTAG','HTR','HS','AS','HST','AST','HC','AC','HF','AF','HY','AY','HR','AR'])\n",
    "results['FTR'] = results['FTR'].replace({'H':0, 'D':1, 'A':2})\n",
    "results[['HomeTeam', 'AwayTeam']] = results[['HomeTeam', 'AwayTeam']].replace({'Cardiff':'Cardiff City', 'Leeds':'Leeds United', 'Leicester':'Leicester City', 'Man City':'Manchester City', \n",
    "                                                                               'Man United':'Manchester Utd','Newcastle':'Newcastle Utd', 'Norwich':'Norwich City', 'Sheffield United':'Sheffield Utd', \n",
    "                                                                               'Stoke':'Stoke City','Swansea':'Swansea City'})\n",
    "shortResults = results[results['Season'].isin(shortYears)]"
   ]
  },
  {
   "cell_type": "code",
   "execution_count": 6,
   "metadata": {},
   "outputs": [],
   "source": [
    "# Combine the two datasets\n",
    "teamStats = {}\n",
    "for i, year in enumerate(years) :\n",
    "    teamStats[shortYears[i]] = pd.read_csv(\"data/\" + year + '_teamstats.csv')\n",
    "    teamStats[shortYears[i]] = teamStats[shortYears[i]].drop(columns=['Unnamed: 0'])\n",
    "    teamStats[shortYears[i]]['Season'] = shortYears[i] \n",
    "\n",
    "homeTeamStats = {}\n",
    "awayTeamStats = {}\n",
    "for i, year in enumerate(shortYears) :\n",
    "    homeTeamStats[year] = teamStats[year].add_prefix('home_')\n",
    "    homeTeamStats[year] = teamStats[year].rename(columns={c: 'home_'+ c for c in teamStats[year].columns if c not in ['Squad', 'Season']})\n",
    "    homeTeamStats[year] = homeTeamStats[year].rename(columns={'Squad':'HomeTeam'})\n",
    "    awayTeamStats[year] = teamStats[year].rename(columns={c: 'away_'+ c for c in teamStats[year].columns if c not in ['Squad', 'Season']})\n",
    "    awayTeamStats[year] = awayTeamStats[year].rename(columns={'Squad':'AwayTeam'})\n",
    "\n",
    "homeTeamConcat = pd.concat(homeTeamStats, ignore_index=True)\n",
    "awayTeamConcat = pd.concat(awayTeamStats, ignore_index=True)\n",
    "\n",
    "fulldata = shortResults\n",
    "fulldata = fulldata.merge(homeTeamConcat, how='left', left_on=['HomeTeam','Season'], right_on = ['HomeTeam','Season'])\n",
    "fulldata = fulldata.merge(awayTeamConcat, how='left', left_on=['AwayTeam','Season'], right_on = ['AwayTeam','Season'])\n",
    "fulldata.to_csv(\"data/fulldata.csv\")"
   ]
  }
 ],
 "metadata": {
  "kernelspec": {
   "display_name": "Python 3",
   "language": "python",
   "name": "python3"
  },
  "language_info": {
   "codemirror_mode": {
    "name": "ipython",
    "version": 3
   },
   "file_extension": ".py",
   "mimetype": "text/x-python",
   "name": "python",
   "nbconvert_exporter": "python",
   "pygments_lexer": "ipython3",
   "version": "3.10.2"
  },
  "orig_nbformat": 4
 },
 "nbformat": 4,
 "nbformat_minor": 2
}
